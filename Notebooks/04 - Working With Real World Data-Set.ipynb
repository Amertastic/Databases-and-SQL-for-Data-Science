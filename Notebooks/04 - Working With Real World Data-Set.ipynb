{
  "cells": [
    {
      "cell_type": "markdown",
      "metadata": {
        "id": "G0EU3FuSiFvG"
      },
      "source": [
        "<center>\n",
        "    <img src=\"https://s3-api.us-geo.objectstorage.softlayer.net/cf-courses-data/CognitiveClass/Logos/organization_logo/organization_logo.png\" width=\"300\" alt=\"cognitiveclass.ai logo\"  />\n",
        "</center>\n",
        "\n",
        "# Working with a real world data-set using SQL and Python\n",
        "\n",
        "Estaimted time needed: **30** minutes\n",
        "\n",
        "## Objectives\n",
        "\n",
        "After complting this lab you will be able to:\n",
        "\n",
        "*   Understand the dataset for Chicago Public School level performance\n",
        "*   Store the dataset in SQLite database.\n",
        "*   Retrieve metadata about tables and columns and query data from mixed case columns\n",
        "*   Solve example problems to practice your SQL skills including using built-in database functions\n"
      ]
    },
    {
      "cell_type": "markdown",
      "metadata": {
        "id": "r25Q_-WbiFvL"
      },
      "source": [
        "## Chicago Public Schools - Progress Report Cards (2011-2012)\n",
        "\n",
        "The city of Chicago released a dataset showing all school level performance data used to create School Report Cards for the 2011-2012 school year. The dataset is available from the Chicago Data Portal: [https://data.cityofchicago.org/Education/Chicago-Public-Schools-Progress-Report-Cards-2011-/9xs2-f89t](https://data.cityofchicago.org/Education/Chicago-Public-Schools-Progress-Report-Cards-2011-/9xs2-f89t?utm_medium=Exinfluencer&utm_source=Exinfluencer&utm_content=000026UJ&utm_term=10006555&utm_id=NA-SkillsNetwork-Channel-SkillsNetworkCoursesIBMDeveloperSkillsNetworkDB0201ENSkillsNetwork20127838-2021-01-01&cm_mmc=Email_Newsletter-\\_-Developer_Ed%2BTech-\\_-WW_WW-\\_-SkillsNetwork-Courses-IBMDeveloperSkillsNetwork-DB0201EN-SkillsNetwork-20127838&cm_mmca1=000026UJ&cm_mmca2=10006555&cm_mmca3=M12345678&cvosrc=email.Newsletter.M12345678&cvo_campaign=000026UJ)\n",
        "\n",
        "This dataset includes a large number of metrics. Start by familiarizing yourself with the types of metrics in the database: [https://data.cityofchicago.org/api/assets/AAD41A13-BE8A-4E67-B1F5-86E711E09D5F?download=true](https://data.cityofchicago.org/api/assets/AAD41A13-BE8A-4E67-B1F5-86E711E09D5F?utm_medium=Exinfluencer&utm_source=Exinfluencer&utm_content=000026UJ&utm_term=10006555&utm_id=NA-SkillsNetwork-Channel-SkillsNetworkCoursesIBMDeveloperSkillsNetworkDB0201ENSkillsNetwork20127838-2021-01-01&download=true&cm_mmc=Email_Newsletter-\\_-Developer_Ed%2BTech-\\_-WW_WW-\\_-SkillsNetwork-Courses-IBMDeveloperSkillsNetwork-DB0201EN-SkillsNetwork-20127838&cm_mmca1=000026UJ&cm_mmca2=10006555&cm_mmca3=M12345678&cvosrc=email.Newsletter.M12345678&cvo_campaign=000026UJ)\n",
        "\n",
        "**NOTE**:\n",
        "\n",
        "Do not download the dataset directly from City of Chicago portal. Instead download a static copy which is a more database friendly version from this <a href=\"https://cf-courses-data.s3.us.cloud-object-storage.appdomain.cloud/IBMDeveloperSkillsNetwork-DB0201EN-SkillsNetwork/labs/FinalModule_Coursera_V5/data/ChicagoPublicSchools.csv?utm_medium=Exinfluencer&utm_source=Exinfluencer&utm_content=000026UJ&utm_term=10006555&utm_id=NA-SkillsNetwork-Channel-SkillsNetworkCoursesIBMDeveloperSkillsNetworkDB0201ENSkillsNetwork20127838-2021-01-01\">link</a>.\n",
        "\n",
        "Now review some of its contents.\n"
      ]
    },
    {
      "cell_type": "markdown",
      "metadata": {
        "id": "_r06s2NGiFvN"
      },
      "source": [
        "### Connect to the database\n",
        "\n",
        "Let us now load the ipython-sql  extension and establish a connection with the database\n",
        "\n",
        "##### The syntax for connecting to magic sql using sqllite is\n",
        "\n",
        "**%sql sqlite://DatabaseName**\n",
        "\n",
        "where DatabaseName will be your **.db** file\n"
      ]
    },
    {
      "cell_type": "code",
      "execution_count": null,
      "metadata": {
        "id": "rgf-wvRAiFvO"
      },
      "outputs": [],
      "source": [
        "import csv, sqlite3\n",
        "\n",
        "con = sqlite3.connect(\"RealWorldData.db\")\n",
        "cur = con.cursor()"
      ]
    },
    {
      "cell_type": "code",
      "execution_count": null,
      "metadata": {
        "colab": {
          "base_uri": "https://localhost:8080/"
        },
        "id": "pNlIgMNriFvP",
        "outputId": "93057fb3-84fa-4b04-e0e8-1bb206fb9abc"
      },
      "outputs": [
        {
          "output_type": "stream",
          "name": "stdout",
          "text": [
            "\u001b[K     |████████████████████████████████| 9.5 MB 4.5 MB/s \n",
            "\u001b[?25h"
          ]
        }
      ],
      "source": [
        "\n",
        "!pip install -q pandas==1.1.5"
      ]
    },
    {
      "cell_type": "code",
      "execution_count": null,
      "metadata": {
        "id": "hFSpDwqciFvQ"
      },
      "outputs": [],
      "source": [
        "%load_ext sql"
      ]
    },
    {
      "cell_type": "code",
      "execution_count": null,
      "metadata": {
        "colab": {
          "base_uri": "https://localhost:8080/",
          "height": 35
        },
        "id": "EKkuSaGqiFvQ",
        "outputId": "ddae875b-0fa3-4c94-c443-b6ccd885eebe"
      },
      "outputs": [
        {
          "output_type": "execute_result",
          "data": {
            "text/plain": [
              "'Connected: @RealWorldData.db'"
            ],
            "application/vnd.google.colaboratory.intrinsic+json": {
              "type": "string"
            }
          },
          "metadata": {},
          "execution_count": 4
        }
      ],
      "source": [
        "%sql sqlite:///RealWorldData.db"
      ]
    },
    {
      "cell_type": "markdown",
      "metadata": {
        "id": "AIb0yWcliFvR"
      },
      "source": [
        "### Store the dataset in a Table\n",
        "\n",
        "##### In many cases the dataset to be analyzed is available as a .CSV (comma separated values) file, perhaps on the internet. To analyze the data\n",
        "\n",
        "##### using SQL, it first needs to be stored in the database.\n",
        "\n",
        "##### We will first read the csv files  from the given url  into pandas dataframes\n",
        "\n",
        "##### Next we will be using the  df.to_sql() function to convert each csv file  to a table in sqlite  with the csv data loaded in it.\n"
      ]
    },
    {
      "cell_type": "code",
      "execution_count": null,
      "metadata": {
        "colab": {
          "base_uri": "https://localhost:8080/"
        },
        "id": "NGvVQ2roiFvR",
        "outputId": "524a9d52-2d68-47cb-df73-96e6a313855f"
      },
      "outputs": [
        {
          "output_type": "stream",
          "name": "stderr",
          "text": [
            "/usr/local/lib/python3.7/dist-packages/pandas/core/generic.py:2615: UserWarning: The spaces in these column names will not be changed. In pandas versions < 0.14, spaces were converted to underscores.\n",
            "  method=method,\n"
          ]
        }
      ],
      "source": [
        "#import pandas\n",
        "\n",
        "#site = 'https://cf-courses-data.s3.us.cloud-object-storage.appdomain.cloud/IBMDeveloperSkillsNetwork-DB0201EN-SkillsNetwork/labs/FinalModule_Coursera_V5/data/ChicagoPublicSchools.csv?utm_medium=Exinfluencer&utm_source=Exinfluencer&utm_content=000026UJ&utm_term=10006555&utm_id=NA-SkillsNetwork-Channel-SkillsNetworkCoursesIBMDeveloperSkillsNetworkDB0201ENSkillsNetwork20127838-2021-01-01'\n",
        "#df = pandas.read_csv(site)\n",
        "#df.to_sql(\"TEST_DATA\",con,\n",
        " # if_exists ='replace',\n",
        "  #index = False,\n",
        "  #method = \"multi\")\n",
        "\n",
        "# They didn't post all the relevant links hence you need to collect them from all the previous tutorials\n",
        "# this is because SQL lite doesn't save old records and you have to import them manually its a very LITE method of manipulating data as it doesn't stay saved \n",
        "\n",
        "import pandas\n",
        "df = pandas.read_csv(\"https://cf-courses-data.s3.us.cloud-object-storage.appdomain.cloud/IBMDeveloperSkillsNetwork-DB0201EN-SkillsNetwork/labs/FinalModule_Coursera_V5/data/ChicagoCensusData.csv\")\n",
        "df.to_sql(\"CENSUS_DATA\", con, if_exists='replace', index=False,method=\"multi\")\n",
        "\n",
        "df = pandas.read_csv(\"https://cf-courses-data.s3.us.cloud-object-storage.appdomain.cloud/IBMDeveloperSkillsNetwork-DB0201EN-SkillsNetwork/labs/FinalModule_Coursera_V5/data/ChicagoCrimeData.csv\")\n",
        "df.to_sql(\"CHICAGO_CRIME_DATA\", con, if_exists='replace', index=False, method=\"multi\")\n",
        "\n",
        "df = pandas.read_csv(\"https://cf-courses-data.s3.us.cloud-object-storage.appdomain.cloud/IBMDeveloperSkillsNetwork-DB0201EN-SkillsNetwork/labs/FinalModule_Coursera_V5/data/ChicagoPublicSchools.csv\")\n",
        "df.to_sql(\"CHICAGO_PUBLIC_SCHOOLS_DATA\", con, if_exists='replace', index=False, method=\"multi\")\n"
      ]
    },
    {
      "cell_type": "markdown",
      "metadata": {
        "id": "TBCRICrwiFvS"
      },
      "source": [
        "Double-click **here** for the solution.\n",
        "\n",
        "<!--\n",
        "\n",
        "import pandas\n",
        "df = pandas.read_csv(\"https://cf-courses-data.s3.us.cloud-object-storage.appdomain.cloud/IBMDeveloperSkillsNetwork-DB0201EN-SkillsNetwork/labs/FinalModule_Coursera_V5/data/ChicagoCensusData.csv\")\n",
        "df.to_sql(\"CENSUS_DATA\", con, if_exists='replace', index=False,method=\"multi\")\n",
        "\n",
        "df = pandas.read_csv(\"https://cf-courses-data.s3.us.cloud-object-storage.appdomain.cloud/IBMDeveloperSkillsNetwork-DB0201EN-SkillsNetwork/labs/FinalModule_Coursera_V5/data/ChicagoCrimeData.csv\")\n",
        "df.to_sql(\"CHICAGO_CRIME_DATA\", con, if_exists='replace', index=False, method=\"multi\")\n",
        "\n",
        "df = pandas.read_csv(\"https://cf-courses-data.s3.us.cloud-object-storage.appdomain.cloud/IBMDeveloperSkillsNetwork-DB0201EN-SkillsNetwork/labs/FinalModule_Coursera_V5/data/ChicagoPublicSchools.csv\")\n",
        "df.to_sql(\"CHICAGO_PUBLIC_SCHOOLS_DATA\", con, if_exists='replace', index=False, method=\"multi\")\n",
        "\n",
        "-->\n"
      ]
    },
    {
      "cell_type": "markdown",
      "metadata": {
        "id": "RiPonxsPiFvS"
      },
      "source": [
        "### Query the database system catalog to retrieve table metadata\n",
        "\n",
        "##### You can verify that the table creation was successful by retrieving the list of all tables in your schema and checking whether the SCHOOLS table was created\n"
      ]
    },
    {
      "cell_type": "code",
      "execution_count": null,
      "metadata": {
        "colab": {
          "base_uri": "https://localhost:8080/",
          "height": 140
        },
        "id": "MQjgXFoiiFvT",
        "outputId": "5c24ad30-3422-4625-ba80-e328b556b89d"
      },
      "outputs": [
        {
          "output_type": "stream",
          "name": "stdout",
          "text": [
            " * sqlite:///RealWorldData.db\n",
            "Done.\n"
          ]
        },
        {
          "output_type": "execute_result",
          "data": {
            "text/plain": [
              "[('CENSUS_DATA',), ('CHICAGO_CRIME_DATA',), ('CHICAGO_PUBLIC_SCHOOLS_DATA',)]"
            ],
            "text/html": [
              "<table>\n",
              "    <thead>\n",
              "        <tr>\n",
              "            <th>name</th>\n",
              "        </tr>\n",
              "    </thead>\n",
              "    <tbody>\n",
              "        <tr>\n",
              "            <td>CENSUS_DATA</td>\n",
              "        </tr>\n",
              "        <tr>\n",
              "            <td>CHICAGO_CRIME_DATA</td>\n",
              "        </tr>\n",
              "        <tr>\n",
              "            <td>CHICAGO_PUBLIC_SCHOOLS_DATA</td>\n",
              "        </tr>\n",
              "    </tbody>\n",
              "</table>"
            ]
          },
          "metadata": {},
          "execution_count": 6
        }
      ],
      "source": [
        "# type in your query to retrieve list of all tables in the database\n",
        "#%sql SELECT NAME FROM SQLITE_MASTER WHERE TYPE = 'table'\n",
        "%sql SELECT name FROM sqlite_master WHERE type='table'"
      ]
    },
    {
      "cell_type": "markdown",
      "metadata": {
        "id": "eRbHVrBBiFvT"
      },
      "source": [
        "Double-click **here** for a hint\n",
        "\n",
        "<!--\n",
        "In sqlite the system catalog table called sqlite_master contains the table metadata\n",
        "-->\n"
      ]
    },
    {
      "cell_type": "markdown",
      "metadata": {
        "id": "xB-j74uniFvT"
      },
      "source": [
        "Double-click **here** for the solution.\n",
        "\n",
        "<!-- Solution using SQLite:\n",
        "\n",
        "%sql SELECT name FROM sqlite_master WHERE type='table'\n",
        "\n",
        "-->\n"
      ]
    },
    {
      "cell_type": "markdown",
      "metadata": {
        "id": "78ylbpOOiFvU"
      },
      "source": [
        "### Query the database system catalog to retrieve column metadata\n",
        "\n",
        "##### The SCHOOLS table contains a large number of columns. How many columns does this table have?\n"
      ]
    },
    {
      "cell_type": "code",
      "execution_count": null,
      "metadata": {
        "id": "vAn4-aqyiFvU",
        "colab": {
          "base_uri": "https://localhost:8080/",
          "height": 97
        },
        "outputId": "959437fa-5090-43f2-f38a-99cc9672111d"
      },
      "outputs": [
        {
          "output_type": "stream",
          "name": "stdout",
          "text": [
            " * sqlite:///RealWorldData.db\n",
            "Done.\n"
          ]
        },
        {
          "output_type": "execute_result",
          "data": {
            "text/plain": [
              "[(78,)]"
            ],
            "text/html": [
              "<table>\n",
              "    <thead>\n",
              "        <tr>\n",
              "            <th>count(name)</th>\n",
              "        </tr>\n",
              "    </thead>\n",
              "    <tbody>\n",
              "        <tr>\n",
              "            <td>78</td>\n",
              "        </tr>\n",
              "    </tbody>\n",
              "</table>"
            ]
          },
          "metadata": {},
          "execution_count": 7
        }
      ],
      "source": [
        "# type in your query to retrieve the number of columns in the SCHOOLS table\n",
        "#%sql SELECT COUNT(*) FROM CHICAGO_PUBLIC_SCHOOLS_DATA\n",
        "%sql SELECT count(name) FROM PRAGMA_TABLE_INFO('CHICAGO_PUBLIC_SCHOOLS_DATA')"
      ]
    },
    {
      "cell_type": "markdown",
      "metadata": {
        "id": "3Iulb3eUiFvU"
      },
      "source": [
        "Double-click **here** for the solution.\n",
        "\n",
        "<!-- Solution SQLite:\n",
        "%sql SELECT count(name) FROM PRAGMA_TABLE_INFO('CHICAGO_PUBLIC_SCHOOLS_DATA');\n",
        "\n",
        "-->\n"
      ]
    },
    {
      "cell_type": "markdown",
      "metadata": {
        "id": "XZ0gtV5fiFvU"
      },
      "source": [
        "Now retrieve the the list of columns in SCHOOLS table and their column type (datatype) and length.\n"
      ]
    },
    {
      "cell_type": "code",
      "execution_count": null,
      "metadata": {
        "id": "c9lN-WAviFvU",
        "colab": {
          "base_uri": "https://localhost:8080/",
          "height": 1000
        },
        "outputId": "87da9b4b-219f-4662-c054-6d39f93f4fb8"
      },
      "outputs": [
        {
          "output_type": "stream",
          "name": "stdout",
          "text": [
            " * sqlite:///RealWorldData.db\n",
            "Done.\n"
          ]
        },
        {
          "output_type": "execute_result",
          "data": {
            "text/plain": [
              "[('School_ID', 'text', 9),\n",
              " ('NAME_OF_SCHOOL', 'text', 14),\n",
              " ('Elementary, Middle, or High School', 'text', 34),\n",
              " ('Street_Address', 'text', 14),\n",
              " ('City', 'text', 4),\n",
              " ('State', 'text', 5),\n",
              " ('ZIP_Code', 'text', 8),\n",
              " ('Phone_Number', 'text', 12),\n",
              " ('Link', 'text', 4),\n",
              " ('Network_Manager', 'text', 15),\n",
              " ('Collaborative_Name', 'text', 18),\n",
              " ('Adequate_Yearly_Progress_Made_', 'text', 30),\n",
              " ('Track_Schedule', 'text', 14),\n",
              " ('CPS_Performance_Policy_Status', 'text', 29),\n",
              " ('CPS_Performance_Policy_Level', 'text', 28),\n",
              " ('HEALTHY_SCHOOL_CERTIFIED', 'text', 24),\n",
              " ('Safety_Icon', 'text', 11),\n",
              " ('SAFETY_SCORE', 'text', 12),\n",
              " ('Family_Involvement_Icon', 'text', 23),\n",
              " ('Family_Involvement_Score', 'text', 24),\n",
              " ('Environment_Icon', 'text', 16),\n",
              " ('Environment_Score', 'text', 17),\n",
              " ('Instruction_Icon', 'text', 16),\n",
              " ('Instruction_Score', 'text', 17),\n",
              " ('Leaders_Icon', 'text', 12),\n",
              " ('Leaders_Score', 'text', 13),\n",
              " ('Teachers_Icon', 'text', 13),\n",
              " ('Teachers_Score', 'text', 14),\n",
              " ('Parent_Engagement_Icon', 'text', 22),\n",
              " ('Parent_Engagement_Score', 'text', 23),\n",
              " ('Parent_Environment_Icon', 'text', 23),\n",
              " ('Parent_Environment_Score', 'text', 24),\n",
              " ('AVERAGE_STUDENT_ATTENDANCE', 'text', 26),\n",
              " ('Rate_of_Misconducts__per_100_students_', 'text', 38),\n",
              " ('Average_Teacher_Attendance', 'text', 26),\n",
              " ('Individualized_Education_Program_Compliance_Rate', 'text', 48),\n",
              " ('Pk_2_Literacy__', 'text', 15),\n",
              " ('Pk_2_Math__', 'text', 11),\n",
              " ('Gr3_5_Grade_Level_Math__', 'text', 24),\n",
              " ('Gr3_5_Grade_Level_Read__', 'text', 24),\n",
              " ('Gr3_5_Keep_Pace_Read__', 'text', 22),\n",
              " ('Gr3_5_Keep_Pace_Math__', 'text', 22),\n",
              " ('Gr6_8_Grade_Level_Math__', 'text', 24),\n",
              " ('Gr6_8_Grade_Level_Read__', 'text', 24),\n",
              " ('Gr6_8_Keep_Pace_Math_', 'text', 21),\n",
              " ('Gr6_8_Keep_Pace_Read__', 'text', 22),\n",
              " ('Gr_8_Explore_Math__', 'text', 19),\n",
              " ('Gr_8_Explore_Read__', 'text', 19),\n",
              " ('ISAT_Exceeding_Math__', 'text', 21),\n",
              " ('ISAT_Exceeding_Reading__', 'text', 24),\n",
              " ('ISAT_Value_Add_Math', 'text', 19),\n",
              " ('ISAT_Value_Add_Read', 'text', 19),\n",
              " ('ISAT_Value_Add_Color_Math', 'text', 25),\n",
              " ('ISAT_Value_Add_Color_Read', 'text', 25),\n",
              " ('Students_Taking__Algebra__', 'text', 26),\n",
              " ('Students_Passing__Algebra__', 'text', 27),\n",
              " ('9th Grade EXPLORE (2009)', 'text', 24),\n",
              " ('9th Grade EXPLORE (2010)', 'text', 24),\n",
              " ('10th Grade PLAN (2009)', 'text', 22),\n",
              " ('10th Grade PLAN (2010)', 'text', 22),\n",
              " ('Net_Change_EXPLORE_and_PLAN', 'text', 27),\n",
              " ('11th Grade Average ACT (2011)', 'text', 29),\n",
              " ('Net_Change_PLAN_and_ACT', 'text', 23),\n",
              " ('College_Eligibility__', 'text', 21),\n",
              " ('Graduation_Rate__', 'text', 17),\n",
              " ('College_Enrollment_Rate__', 'text', 25),\n",
              " ('COLLEGE_ENROLLMENT', 'text', 18),\n",
              " ('General_Services_Route', 'text', 22),\n",
              " ('Freshman_on_Track_Rate__', 'text', 24),\n",
              " ('X_COORDINATE', 'text', 12),\n",
              " ('Y_COORDINATE', 'text', 12),\n",
              " ('Latitude', 'text', 8),\n",
              " ('Longitude', 'text', 9),\n",
              " ('COMMUNITY_AREA_NUMBER', 'text', 21),\n",
              " ('COMMUNITY_AREA_NAME', 'text', 19),\n",
              " ('Ward', 'text', 4),\n",
              " ('Police_District', 'text', 15),\n",
              " ('Location', 'text', 8)]"
            ],
            "text/html": [
              "<table>\n",
              "    <thead>\n",
              "        <tr>\n",
              "            <th>name</th>\n",
              "            <th>typeof(name)</th>\n",
              "            <th>length(name)</th>\n",
              "        </tr>\n",
              "    </thead>\n",
              "    <tbody>\n",
              "        <tr>\n",
              "            <td>School_ID</td>\n",
              "            <td>text</td>\n",
              "            <td>9</td>\n",
              "        </tr>\n",
              "        <tr>\n",
              "            <td>NAME_OF_SCHOOL</td>\n",
              "            <td>text</td>\n",
              "            <td>14</td>\n",
              "        </tr>\n",
              "        <tr>\n",
              "            <td>Elementary, Middle, or High School</td>\n",
              "            <td>text</td>\n",
              "            <td>34</td>\n",
              "        </tr>\n",
              "        <tr>\n",
              "            <td>Street_Address</td>\n",
              "            <td>text</td>\n",
              "            <td>14</td>\n",
              "        </tr>\n",
              "        <tr>\n",
              "            <td>City</td>\n",
              "            <td>text</td>\n",
              "            <td>4</td>\n",
              "        </tr>\n",
              "        <tr>\n",
              "            <td>State</td>\n",
              "            <td>text</td>\n",
              "            <td>5</td>\n",
              "        </tr>\n",
              "        <tr>\n",
              "            <td>ZIP_Code</td>\n",
              "            <td>text</td>\n",
              "            <td>8</td>\n",
              "        </tr>\n",
              "        <tr>\n",
              "            <td>Phone_Number</td>\n",
              "            <td>text</td>\n",
              "            <td>12</td>\n",
              "        </tr>\n",
              "        <tr>\n",
              "            <td>Link</td>\n",
              "            <td>text</td>\n",
              "            <td>4</td>\n",
              "        </tr>\n",
              "        <tr>\n",
              "            <td>Network_Manager</td>\n",
              "            <td>text</td>\n",
              "            <td>15</td>\n",
              "        </tr>\n",
              "        <tr>\n",
              "            <td>Collaborative_Name</td>\n",
              "            <td>text</td>\n",
              "            <td>18</td>\n",
              "        </tr>\n",
              "        <tr>\n",
              "            <td>Adequate_Yearly_Progress_Made_</td>\n",
              "            <td>text</td>\n",
              "            <td>30</td>\n",
              "        </tr>\n",
              "        <tr>\n",
              "            <td>Track_Schedule</td>\n",
              "            <td>text</td>\n",
              "            <td>14</td>\n",
              "        </tr>\n",
              "        <tr>\n",
              "            <td>CPS_Performance_Policy_Status</td>\n",
              "            <td>text</td>\n",
              "            <td>29</td>\n",
              "        </tr>\n",
              "        <tr>\n",
              "            <td>CPS_Performance_Policy_Level</td>\n",
              "            <td>text</td>\n",
              "            <td>28</td>\n",
              "        </tr>\n",
              "        <tr>\n",
              "            <td>HEALTHY_SCHOOL_CERTIFIED</td>\n",
              "            <td>text</td>\n",
              "            <td>24</td>\n",
              "        </tr>\n",
              "        <tr>\n",
              "            <td>Safety_Icon</td>\n",
              "            <td>text</td>\n",
              "            <td>11</td>\n",
              "        </tr>\n",
              "        <tr>\n",
              "            <td>SAFETY_SCORE</td>\n",
              "            <td>text</td>\n",
              "            <td>12</td>\n",
              "        </tr>\n",
              "        <tr>\n",
              "            <td>Family_Involvement_Icon</td>\n",
              "            <td>text</td>\n",
              "            <td>23</td>\n",
              "        </tr>\n",
              "        <tr>\n",
              "            <td>Family_Involvement_Score</td>\n",
              "            <td>text</td>\n",
              "            <td>24</td>\n",
              "        </tr>\n",
              "        <tr>\n",
              "            <td>Environment_Icon</td>\n",
              "            <td>text</td>\n",
              "            <td>16</td>\n",
              "        </tr>\n",
              "        <tr>\n",
              "            <td>Environment_Score</td>\n",
              "            <td>text</td>\n",
              "            <td>17</td>\n",
              "        </tr>\n",
              "        <tr>\n",
              "            <td>Instruction_Icon</td>\n",
              "            <td>text</td>\n",
              "            <td>16</td>\n",
              "        </tr>\n",
              "        <tr>\n",
              "            <td>Instruction_Score</td>\n",
              "            <td>text</td>\n",
              "            <td>17</td>\n",
              "        </tr>\n",
              "        <tr>\n",
              "            <td>Leaders_Icon</td>\n",
              "            <td>text</td>\n",
              "            <td>12</td>\n",
              "        </tr>\n",
              "        <tr>\n",
              "            <td>Leaders_Score</td>\n",
              "            <td>text</td>\n",
              "            <td>13</td>\n",
              "        </tr>\n",
              "        <tr>\n",
              "            <td>Teachers_Icon</td>\n",
              "            <td>text</td>\n",
              "            <td>13</td>\n",
              "        </tr>\n",
              "        <tr>\n",
              "            <td>Teachers_Score</td>\n",
              "            <td>text</td>\n",
              "            <td>14</td>\n",
              "        </tr>\n",
              "        <tr>\n",
              "            <td>Parent_Engagement_Icon</td>\n",
              "            <td>text</td>\n",
              "            <td>22</td>\n",
              "        </tr>\n",
              "        <tr>\n",
              "            <td>Parent_Engagement_Score</td>\n",
              "            <td>text</td>\n",
              "            <td>23</td>\n",
              "        </tr>\n",
              "        <tr>\n",
              "            <td>Parent_Environment_Icon</td>\n",
              "            <td>text</td>\n",
              "            <td>23</td>\n",
              "        </tr>\n",
              "        <tr>\n",
              "            <td>Parent_Environment_Score</td>\n",
              "            <td>text</td>\n",
              "            <td>24</td>\n",
              "        </tr>\n",
              "        <tr>\n",
              "            <td>AVERAGE_STUDENT_ATTENDANCE</td>\n",
              "            <td>text</td>\n",
              "            <td>26</td>\n",
              "        </tr>\n",
              "        <tr>\n",
              "            <td>Rate_of_Misconducts__per_100_students_</td>\n",
              "            <td>text</td>\n",
              "            <td>38</td>\n",
              "        </tr>\n",
              "        <tr>\n",
              "            <td>Average_Teacher_Attendance</td>\n",
              "            <td>text</td>\n",
              "            <td>26</td>\n",
              "        </tr>\n",
              "        <tr>\n",
              "            <td>Individualized_Education_Program_Compliance_Rate</td>\n",
              "            <td>text</td>\n",
              "            <td>48</td>\n",
              "        </tr>\n",
              "        <tr>\n",
              "            <td>Pk_2_Literacy__</td>\n",
              "            <td>text</td>\n",
              "            <td>15</td>\n",
              "        </tr>\n",
              "        <tr>\n",
              "            <td>Pk_2_Math__</td>\n",
              "            <td>text</td>\n",
              "            <td>11</td>\n",
              "        </tr>\n",
              "        <tr>\n",
              "            <td>Gr3_5_Grade_Level_Math__</td>\n",
              "            <td>text</td>\n",
              "            <td>24</td>\n",
              "        </tr>\n",
              "        <tr>\n",
              "            <td>Gr3_5_Grade_Level_Read__</td>\n",
              "            <td>text</td>\n",
              "            <td>24</td>\n",
              "        </tr>\n",
              "        <tr>\n",
              "            <td>Gr3_5_Keep_Pace_Read__</td>\n",
              "            <td>text</td>\n",
              "            <td>22</td>\n",
              "        </tr>\n",
              "        <tr>\n",
              "            <td>Gr3_5_Keep_Pace_Math__</td>\n",
              "            <td>text</td>\n",
              "            <td>22</td>\n",
              "        </tr>\n",
              "        <tr>\n",
              "            <td>Gr6_8_Grade_Level_Math__</td>\n",
              "            <td>text</td>\n",
              "            <td>24</td>\n",
              "        </tr>\n",
              "        <tr>\n",
              "            <td>Gr6_8_Grade_Level_Read__</td>\n",
              "            <td>text</td>\n",
              "            <td>24</td>\n",
              "        </tr>\n",
              "        <tr>\n",
              "            <td>Gr6_8_Keep_Pace_Math_</td>\n",
              "            <td>text</td>\n",
              "            <td>21</td>\n",
              "        </tr>\n",
              "        <tr>\n",
              "            <td>Gr6_8_Keep_Pace_Read__</td>\n",
              "            <td>text</td>\n",
              "            <td>22</td>\n",
              "        </tr>\n",
              "        <tr>\n",
              "            <td>Gr_8_Explore_Math__</td>\n",
              "            <td>text</td>\n",
              "            <td>19</td>\n",
              "        </tr>\n",
              "        <tr>\n",
              "            <td>Gr_8_Explore_Read__</td>\n",
              "            <td>text</td>\n",
              "            <td>19</td>\n",
              "        </tr>\n",
              "        <tr>\n",
              "            <td>ISAT_Exceeding_Math__</td>\n",
              "            <td>text</td>\n",
              "            <td>21</td>\n",
              "        </tr>\n",
              "        <tr>\n",
              "            <td>ISAT_Exceeding_Reading__</td>\n",
              "            <td>text</td>\n",
              "            <td>24</td>\n",
              "        </tr>\n",
              "        <tr>\n",
              "            <td>ISAT_Value_Add_Math</td>\n",
              "            <td>text</td>\n",
              "            <td>19</td>\n",
              "        </tr>\n",
              "        <tr>\n",
              "            <td>ISAT_Value_Add_Read</td>\n",
              "            <td>text</td>\n",
              "            <td>19</td>\n",
              "        </tr>\n",
              "        <tr>\n",
              "            <td>ISAT_Value_Add_Color_Math</td>\n",
              "            <td>text</td>\n",
              "            <td>25</td>\n",
              "        </tr>\n",
              "        <tr>\n",
              "            <td>ISAT_Value_Add_Color_Read</td>\n",
              "            <td>text</td>\n",
              "            <td>25</td>\n",
              "        </tr>\n",
              "        <tr>\n",
              "            <td>Students_Taking__Algebra__</td>\n",
              "            <td>text</td>\n",
              "            <td>26</td>\n",
              "        </tr>\n",
              "        <tr>\n",
              "            <td>Students_Passing__Algebra__</td>\n",
              "            <td>text</td>\n",
              "            <td>27</td>\n",
              "        </tr>\n",
              "        <tr>\n",
              "            <td>9th Grade EXPLORE (2009)</td>\n",
              "            <td>text</td>\n",
              "            <td>24</td>\n",
              "        </tr>\n",
              "        <tr>\n",
              "            <td>9th Grade EXPLORE (2010)</td>\n",
              "            <td>text</td>\n",
              "            <td>24</td>\n",
              "        </tr>\n",
              "        <tr>\n",
              "            <td>10th Grade PLAN (2009)</td>\n",
              "            <td>text</td>\n",
              "            <td>22</td>\n",
              "        </tr>\n",
              "        <tr>\n",
              "            <td>10th Grade PLAN (2010)</td>\n",
              "            <td>text</td>\n",
              "            <td>22</td>\n",
              "        </tr>\n",
              "        <tr>\n",
              "            <td>Net_Change_EXPLORE_and_PLAN</td>\n",
              "            <td>text</td>\n",
              "            <td>27</td>\n",
              "        </tr>\n",
              "        <tr>\n",
              "            <td>11th Grade Average ACT (2011)</td>\n",
              "            <td>text</td>\n",
              "            <td>29</td>\n",
              "        </tr>\n",
              "        <tr>\n",
              "            <td>Net_Change_PLAN_and_ACT</td>\n",
              "            <td>text</td>\n",
              "            <td>23</td>\n",
              "        </tr>\n",
              "        <tr>\n",
              "            <td>College_Eligibility__</td>\n",
              "            <td>text</td>\n",
              "            <td>21</td>\n",
              "        </tr>\n",
              "        <tr>\n",
              "            <td>Graduation_Rate__</td>\n",
              "            <td>text</td>\n",
              "            <td>17</td>\n",
              "        </tr>\n",
              "        <tr>\n",
              "            <td>College_Enrollment_Rate__</td>\n",
              "            <td>text</td>\n",
              "            <td>25</td>\n",
              "        </tr>\n",
              "        <tr>\n",
              "            <td>COLLEGE_ENROLLMENT</td>\n",
              "            <td>text</td>\n",
              "            <td>18</td>\n",
              "        </tr>\n",
              "        <tr>\n",
              "            <td>General_Services_Route</td>\n",
              "            <td>text</td>\n",
              "            <td>22</td>\n",
              "        </tr>\n",
              "        <tr>\n",
              "            <td>Freshman_on_Track_Rate__</td>\n",
              "            <td>text</td>\n",
              "            <td>24</td>\n",
              "        </tr>\n",
              "        <tr>\n",
              "            <td>X_COORDINATE</td>\n",
              "            <td>text</td>\n",
              "            <td>12</td>\n",
              "        </tr>\n",
              "        <tr>\n",
              "            <td>Y_COORDINATE</td>\n",
              "            <td>text</td>\n",
              "            <td>12</td>\n",
              "        </tr>\n",
              "        <tr>\n",
              "            <td>Latitude</td>\n",
              "            <td>text</td>\n",
              "            <td>8</td>\n",
              "        </tr>\n",
              "        <tr>\n",
              "            <td>Longitude</td>\n",
              "            <td>text</td>\n",
              "            <td>9</td>\n",
              "        </tr>\n",
              "        <tr>\n",
              "            <td>COMMUNITY_AREA_NUMBER</td>\n",
              "            <td>text</td>\n",
              "            <td>21</td>\n",
              "        </tr>\n",
              "        <tr>\n",
              "            <td>COMMUNITY_AREA_NAME</td>\n",
              "            <td>text</td>\n",
              "            <td>19</td>\n",
              "        </tr>\n",
              "        <tr>\n",
              "            <td>Ward</td>\n",
              "            <td>text</td>\n",
              "            <td>4</td>\n",
              "        </tr>\n",
              "        <tr>\n",
              "            <td>Police_District</td>\n",
              "            <td>text</td>\n",
              "            <td>15</td>\n",
              "        </tr>\n",
              "        <tr>\n",
              "            <td>Location</td>\n",
              "            <td>text</td>\n",
              "            <td>8</td>\n",
              "        </tr>\n",
              "    </tbody>\n",
              "</table>"
            ]
          },
          "metadata": {},
          "execution_count": 8
        }
      ],
      "source": [
        "# type in your query to retrieve all column names in the SCHOOLS table along with their datatypes and length\n",
        "#%sql SELECT TABNAME,TYPE, LENGTH FROM SYSCAT.COLUMNS WHERE \n",
        "%sql SELECT name,typeof(name),length(name) FROM PRAGMA_TABLE_INFO('CHICAGO_PUBLIC_SCHOOLS_DATA') LIMIT 80\n"
      ]
    },
    {
      "cell_type": "markdown",
      "metadata": {
        "id": "1D453nVQiFvV"
      },
      "source": [
        "Double-click **here** for the solution.\n",
        "\n",
        "<!-- Solution \n",
        "\n",
        "%sql SELECT name,typeof(name),length(name) FROM PRAGMA_TABLE_INFO('CHICAGO_PUBLIC_SCHOOLS_DATA');\n",
        "\n",
        "-->\n"
      ]
    },
    {
      "cell_type": "markdown",
      "metadata": {
        "id": "f3rf2GqYiFvV"
      },
      "source": [
        "### Questions\n",
        "\n",
        "1.  Is the column name for the \"SCHOOL ID\" attribute in upper or mixed case?\n",
        "2.  What is the name of \"Community Area Name\" column in your table? Does it have spaces?\n",
        "3.  Are there any columns in whose names the spaces and paranthesis (round brackets) have been replaced by the underscore character \"\\_\"?\n"
      ]
    },
    {
      "cell_type": "markdown",
      "metadata": {
        "id": "rxQtapUviFvV"
      },
      "source": [
        "## Problems\n",
        "\n",
        "### Problem 1\n",
        "\n",
        "##### How many Elementary Schools are in the dataset?\n"
      ]
    },
    {
      "cell_type": "code",
      "execution_count": null,
      "metadata": {
        "id": "xJ5Bc8EOiFvV",
        "colab": {
          "base_uri": "https://localhost:8080/",
          "height": 97
        },
        "outputId": "d72185d0-1855-442b-e34d-abf1dab6d0ba"
      },
      "outputs": [
        {
          "output_type": "stream",
          "name": "stdout",
          "text": [
            " * sqlite:///RealWorldData.db\n",
            "Done.\n"
          ]
        },
        {
          "output_type": "execute_result",
          "data": {
            "text/plain": [
              "[(462,)]"
            ],
            "text/html": [
              "<table>\n",
              "    <thead>\n",
              "        <tr>\n",
              "            <th>COUNT(*)</th>\n",
              "        </tr>\n",
              "    </thead>\n",
              "    <tbody>\n",
              "        <tr>\n",
              "            <td>462</td>\n",
              "        </tr>\n",
              "    </tbody>\n",
              "</table>"
            ]
          },
          "metadata": {},
          "execution_count": 9
        }
      ],
      "source": [
        "%sql SELECT COUNT(*) FROM CHICAGO_PUBLIC_SCHOOLS_DATA WHERE \"Elementary, Middle, or High School\" = 'ES'\n",
        "## Got it first try"
      ]
    },
    {
      "cell_type": "markdown",
      "metadata": {
        "id": "65Ls2p44iFvV"
      },
      "source": [
        "Double-click **here** for a hint\n",
        "\n",
        "<!--\n",
        "Which column specifies the school type e.g. 'ES', 'MS', 'HS'? (\"Elementary School, Middle School, High School\")\n",
        "-->\n"
      ]
    },
    {
      "cell_type": "markdown",
      "metadata": {
        "id": "LrkEIK1tiFvW"
      },
      "source": [
        "Double-click **here** for another hint\n",
        "\n",
        "<!--\n",
        "Does the column name have mixed case, spaces or other special characters?\n",
        "If so, ensure you use double quotes around the \"Name of the Column\"\n",
        "-->\n"
      ]
    },
    {
      "cell_type": "markdown",
      "metadata": {
        "id": "0VXwRA0eiFvW"
      },
      "source": [
        "Double-click **here** for the solution.\n",
        "\n",
        "<!-- Solution:\n",
        "\n",
        "%sql select count(*) from CHICAGO_PUBLIC_SCHOOLS_DATA where \"Elementary, Middle, or High School\"='ES'\n",
        "\n",
        "Correct answer: 462\n",
        "\n",
        "-->\n"
      ]
    },
    {
      "cell_type": "markdown",
      "metadata": {
        "id": "iblaNdWFiFvW"
      },
      "source": [
        "### Problem 2\n",
        "\n",
        "##### What is the highest Safety Score?\n"
      ]
    },
    {
      "cell_type": "code",
      "execution_count": null,
      "metadata": {
        "id": "LyYR3dbiiFvW",
        "colab": {
          "base_uri": "https://localhost:8080/",
          "height": 97
        },
        "outputId": "a064fbf3-80c8-43c9-fe07-7000bd685954"
      },
      "outputs": [
        {
          "output_type": "stream",
          "name": "stdout",
          "text": [
            " * sqlite:///RealWorldData.db\n",
            "Done.\n"
          ]
        },
        {
          "output_type": "execute_result",
          "data": {
            "text/plain": [
              "[(99.0,)]"
            ],
            "text/html": [
              "<table>\n",
              "    <thead>\n",
              "        <tr>\n",
              "            <th>MAX(SAFETY_SCORE)</th>\n",
              "        </tr>\n",
              "    </thead>\n",
              "    <tbody>\n",
              "        <tr>\n",
              "            <td>99.0</td>\n",
              "        </tr>\n",
              "    </tbody>\n",
              "</table>"
            ]
          },
          "metadata": {},
          "execution_count": 10
        }
      ],
      "source": [
        "%sql SELECT MAX(SAFETY_SCORE) FROM CHICAGO_PUBLIC_SCHOOLS_DATA\n",
        "# Got it first try"
      ]
    },
    {
      "cell_type": "markdown",
      "metadata": {
        "id": "vnGoXTt-iFvW"
      },
      "source": [
        "Double-click **here** for a hint\n",
        "\n",
        "<!--\n",
        "Use the MAX() function\n",
        "-->\n"
      ]
    },
    {
      "cell_type": "markdown",
      "metadata": {
        "id": "QpGqVjTGiFvW"
      },
      "source": [
        "Double-click **here** for the solution.\n",
        "\n",
        "<!-- Hint:\n",
        "\n",
        "%sql select MAX(Safety_Score) AS MAX_SAFETY_SCORE from CHICAGO_PUBLIC_SCHOOLS_DATA\n",
        "\n",
        "Correct answer: 99\n",
        "-->\n"
      ]
    },
    {
      "cell_type": "markdown",
      "metadata": {
        "id": "XaWpLeV8iFvW"
      },
      "source": [
        "### Problem 3\n",
        "\n",
        "##### Which schools have highest Safety Score?\n"
      ]
    },
    {
      "cell_type": "code",
      "execution_count": null,
      "metadata": {
        "id": "GkpVJ-2FiFvX",
        "colab": {
          "base_uri": "https://localhost:8080/",
          "height": 479
        },
        "outputId": "6e1d9f96-9f13-479d-c9af-7430b1dd8f36"
      },
      "outputs": [
        {
          "output_type": "stream",
          "name": "stdout",
          "text": [
            " * sqlite:///RealWorldData.db\n",
            "Done.\n"
          ]
        },
        {
          "output_type": "execute_result",
          "data": {
            "text/plain": [
              "[('Abraham Lincoln Elementary School', 99.0),\n",
              " ('Alexander Graham Bell Elementary School', 99.0),\n",
              " ('Annie Keller Elementary Gifted Magnet School', 99.0),\n",
              " ('Augustus H Burley Elementary School', 99.0),\n",
              " ('Edgar Allan Poe Elementary Classical School', 99.0),\n",
              " ('Edgebrook Elementary School', 99.0),\n",
              " ('Ellen Mitchell Elementary School', 99.0),\n",
              " ('James E McDade Elementary Classical School', 99.0),\n",
              " ('James G Blaine Elementary School', 99.0),\n",
              " ('LaSalle Elementary Language Academy', 99.0),\n",
              " ('Mary E Courtenay Elementary Language Arts Center', 99.0),\n",
              " ('Northside College Preparatory High School', 99.0),\n",
              " ('Northside Learning Center High School', 99.0),\n",
              " ('Norwood Park Elementary School', 99.0),\n",
              " ('Oriole Park Elementary School', 99.0),\n",
              " ('Sauganash Elementary School', 99.0),\n",
              " ('Stephen Decatur Classical Elementary School', 99.0),\n",
              " ('Talman Elementary School', 99.0),\n",
              " ('Wildwood Elementary School', 99.0)]"
            ],
            "text/html": [
              "<table>\n",
              "    <thead>\n",
              "        <tr>\n",
              "            <th>NAME_OF_SCHOOL</th>\n",
              "            <th>SAFETY_SCORE</th>\n",
              "        </tr>\n",
              "    </thead>\n",
              "    <tbody>\n",
              "        <tr>\n",
              "            <td>Abraham Lincoln Elementary School</td>\n",
              "            <td>99.0</td>\n",
              "        </tr>\n",
              "        <tr>\n",
              "            <td>Alexander Graham Bell Elementary School</td>\n",
              "            <td>99.0</td>\n",
              "        </tr>\n",
              "        <tr>\n",
              "            <td>Annie Keller Elementary Gifted Magnet School</td>\n",
              "            <td>99.0</td>\n",
              "        </tr>\n",
              "        <tr>\n",
              "            <td>Augustus H Burley Elementary School</td>\n",
              "            <td>99.0</td>\n",
              "        </tr>\n",
              "        <tr>\n",
              "            <td>Edgar Allan Poe Elementary Classical School</td>\n",
              "            <td>99.0</td>\n",
              "        </tr>\n",
              "        <tr>\n",
              "            <td>Edgebrook Elementary School</td>\n",
              "            <td>99.0</td>\n",
              "        </tr>\n",
              "        <tr>\n",
              "            <td>Ellen Mitchell Elementary School</td>\n",
              "            <td>99.0</td>\n",
              "        </tr>\n",
              "        <tr>\n",
              "            <td>James E McDade Elementary Classical School</td>\n",
              "            <td>99.0</td>\n",
              "        </tr>\n",
              "        <tr>\n",
              "            <td>James G Blaine Elementary School</td>\n",
              "            <td>99.0</td>\n",
              "        </tr>\n",
              "        <tr>\n",
              "            <td>LaSalle Elementary Language Academy</td>\n",
              "            <td>99.0</td>\n",
              "        </tr>\n",
              "        <tr>\n",
              "            <td>Mary E Courtenay Elementary Language Arts Center</td>\n",
              "            <td>99.0</td>\n",
              "        </tr>\n",
              "        <tr>\n",
              "            <td>Northside College Preparatory High School</td>\n",
              "            <td>99.0</td>\n",
              "        </tr>\n",
              "        <tr>\n",
              "            <td>Northside Learning Center High School</td>\n",
              "            <td>99.0</td>\n",
              "        </tr>\n",
              "        <tr>\n",
              "            <td>Norwood Park Elementary School</td>\n",
              "            <td>99.0</td>\n",
              "        </tr>\n",
              "        <tr>\n",
              "            <td>Oriole Park Elementary School</td>\n",
              "            <td>99.0</td>\n",
              "        </tr>\n",
              "        <tr>\n",
              "            <td>Sauganash Elementary School</td>\n",
              "            <td>99.0</td>\n",
              "        </tr>\n",
              "        <tr>\n",
              "            <td>Stephen Decatur Classical Elementary School</td>\n",
              "            <td>99.0</td>\n",
              "        </tr>\n",
              "        <tr>\n",
              "            <td>Talman Elementary School</td>\n",
              "            <td>99.0</td>\n",
              "        </tr>\n",
              "        <tr>\n",
              "            <td>Wildwood Elementary School</td>\n",
              "            <td>99.0</td>\n",
              "        </tr>\n",
              "    </tbody>\n",
              "</table>"
            ]
          },
          "metadata": {},
          "execution_count": 11
        }
      ],
      "source": [
        "#%sql SELECT NAME_OF_SCHOOL, SAFETY_SCORE FROM CHICAGO_PUBLIC_SCHOOLS_DATA ORDER BY SAFETY_SCORE DESC LIMIT 10\n",
        "## Made an initial mistake because I miss read the question\n",
        "%sql SELECT NAME_OF_SCHOOL, SAFETY_SCORE FROM CHICAGO_PUBLIC_SCHOOLS_DATA WHERE \\\n",
        "SAFETY_SCORE = (SELECT MAX(SAFETY_SCORE) FROM CHICAGO_PUBLIC_SCHOOLS_DATA)"
      ]
    },
    {
      "cell_type": "markdown",
      "metadata": {
        "id": "J_IyOYRViFvX"
      },
      "source": [
        "Double-click **here** for the solution.\n",
        "\n",
        "<!-- Solution:\n",
        "In the previous problem we found out that the highest Safety Score is 99, so we can use that as an input in the where clause:\n",
        "\n",
        "%sql select Name_of_School, Safety_Score from CHICAGO_PUBLIC_SCHOOLS_DATA where Safety_Score = 99\n",
        "\n",
        "or, a better way:\n",
        "\n",
        "%sql select Name_of_School, Safety_Score from CHICAGO_PUBLIC_SCHOOLS_DATA where \\\n",
        "  Safety_Score= (select MAX(Safety_Score) from CHICAGO_PUBLIC_SCHOOLS_DATA)\n",
        "\n",
        "\n",
        "Correct answer: several schools with with Safety Score of 99.\n",
        "-->\n"
      ]
    },
    {
      "cell_type": "markdown",
      "metadata": {
        "id": "JV7mUF0ZiFvX"
      },
      "source": [
        "### Problem 4\n",
        "\n",
        "##### What are the top 10 schools with the highest \"Average Student Attendance\"?\n"
      ]
    },
    {
      "cell_type": "code",
      "execution_count": null,
      "metadata": {
        "id": "Bnv-oVoViFvX",
        "colab": {
          "base_uri": "https://localhost:8080/",
          "height": 288
        },
        "outputId": "ddaf87b0-d829-469d-fb3e-81bd5af7b9f3"
      },
      "outputs": [
        {
          "output_type": "stream",
          "name": "stdout",
          "text": [
            " * sqlite:///RealWorldData.db\n",
            "Done.\n"
          ]
        },
        {
          "output_type": "execute_result",
          "data": {
            "text/plain": [
              "[('John Charles Haines Elementary School', '98.40%'),\n",
              " ('James Ward Elementary School', '97.80%'),\n",
              " ('Edgar Allan Poe Elementary Classical School', '97.60%'),\n",
              " ('Orozco Fine Arts & Sciences Elementary School', '97.60%'),\n",
              " ('Rachel Carson Elementary School', '97.60%'),\n",
              " ('Annie Keller Elementary Gifted Magnet School', '97.50%'),\n",
              " ('Andrew Jackson Elementary Language Academy', '97.40%'),\n",
              " ('Lenart Elementary Regional Gifted Center', '97.40%'),\n",
              " ('Disney II Magnet School', '97.30%'),\n",
              " ('John H Vanderpoel Elementary Magnet School', '97.20%')]"
            ],
            "text/html": [
              "<table>\n",
              "    <thead>\n",
              "        <tr>\n",
              "            <th>NAME_OF_SCHOOL</th>\n",
              "            <th>AVERAGE_STUDENT_ATTENDANCE</th>\n",
              "        </tr>\n",
              "    </thead>\n",
              "    <tbody>\n",
              "        <tr>\n",
              "            <td>John Charles Haines Elementary School</td>\n",
              "            <td>98.40%</td>\n",
              "        </tr>\n",
              "        <tr>\n",
              "            <td>James Ward Elementary School</td>\n",
              "            <td>97.80%</td>\n",
              "        </tr>\n",
              "        <tr>\n",
              "            <td>Edgar Allan Poe Elementary Classical School</td>\n",
              "            <td>97.60%</td>\n",
              "        </tr>\n",
              "        <tr>\n",
              "            <td>Orozco Fine Arts &amp; Sciences Elementary School</td>\n",
              "            <td>97.60%</td>\n",
              "        </tr>\n",
              "        <tr>\n",
              "            <td>Rachel Carson Elementary School</td>\n",
              "            <td>97.60%</td>\n",
              "        </tr>\n",
              "        <tr>\n",
              "            <td>Annie Keller Elementary Gifted Magnet School</td>\n",
              "            <td>97.50%</td>\n",
              "        </tr>\n",
              "        <tr>\n",
              "            <td>Andrew Jackson Elementary Language Academy</td>\n",
              "            <td>97.40%</td>\n",
              "        </tr>\n",
              "        <tr>\n",
              "            <td>Lenart Elementary Regional Gifted Center</td>\n",
              "            <td>97.40%</td>\n",
              "        </tr>\n",
              "        <tr>\n",
              "            <td>Disney II Magnet School</td>\n",
              "            <td>97.30%</td>\n",
              "        </tr>\n",
              "        <tr>\n",
              "            <td>John H Vanderpoel Elementary Magnet School</td>\n",
              "            <td>97.20%</td>\n",
              "        </tr>\n",
              "    </tbody>\n",
              "</table>"
            ]
          },
          "metadata": {},
          "execution_count": 12
        }
      ],
      "source": [
        "%sql SELECT NAME_OF_SCHOOL, AVERAGE_STUDENT_ATTENDANCE FROM CHICAGO_PUBLIC_SCHOOLS_DATA ORDER BY AVERAGE_STUDENT_ATTENDANCE DESC LIMIT 10\n",
        "#Got it first try - Could have mentioned nulls to remove None values but I don't think it was nesseccary"
      ]
    },
    {
      "cell_type": "markdown",
      "metadata": {
        "id": "DAkvCYYyiFvX"
      },
      "source": [
        "Double-click **here** for the solution.\n",
        "\n",
        "<!-- Solution:\n",
        "\n",
        "%sql select Name_of_School, Average_Student_Attendance from CHICAGO_PUBLIC_SCHOOLS_DATA \\\n",
        "    order by Average_Student_Attendance desc nulls last limit 10 \n",
        "\n",
        "-->\n"
      ]
    },
    {
      "cell_type": "markdown",
      "metadata": {
        "id": "XsCDs3tKiFvX"
      },
      "source": [
        "### Problem 5\n",
        "\n",
        "##### Retrieve the list of 5 Schools with the lowest Average Student Attendance sorted in ascending order based on attendance\n"
      ]
    },
    {
      "cell_type": "code",
      "execution_count": null,
      "metadata": {
        "id": "ViHfNOR5iFvX",
        "colab": {
          "base_uri": "https://localhost:8080/",
          "height": 183
        },
        "outputId": "2c087b6e-6a3e-42f6-a596-353326197ea9"
      },
      "outputs": [
        {
          "output_type": "stream",
          "name": "stdout",
          "text": [
            " * sqlite:///RealWorldData.db\n",
            "Done.\n"
          ]
        },
        {
          "output_type": "execute_result",
          "data": {
            "text/plain": [
              "[('Velma F Thomas Early Childhood Center', None),\n",
              " ('Richard T Crane Technical Preparatory High School', '57.90%'),\n",
              " ('Barbara Vick Early Childhood & Family Center', '60.90%'),\n",
              " ('Dyett High School', '62.50%'),\n",
              " ('Wendell Phillips Academy High School', '63.00%')]"
            ],
            "text/html": [
              "<table>\n",
              "    <thead>\n",
              "        <tr>\n",
              "            <th>NAME_OF_SCHOOL</th>\n",
              "            <th>AVERAGE_STUDENT_ATTENDANCE</th>\n",
              "        </tr>\n",
              "    </thead>\n",
              "    <tbody>\n",
              "        <tr>\n",
              "            <td>Velma F Thomas Early Childhood Center</td>\n",
              "            <td>None</td>\n",
              "        </tr>\n",
              "        <tr>\n",
              "            <td>Richard T Crane Technical Preparatory High School</td>\n",
              "            <td>57.90%</td>\n",
              "        </tr>\n",
              "        <tr>\n",
              "            <td>Barbara Vick Early Childhood &amp; Family Center</td>\n",
              "            <td>60.90%</td>\n",
              "        </tr>\n",
              "        <tr>\n",
              "            <td>Dyett High School</td>\n",
              "            <td>62.50%</td>\n",
              "        </tr>\n",
              "        <tr>\n",
              "            <td>Wendell Phillips Academy High School</td>\n",
              "            <td>63.00%</td>\n",
              "        </tr>\n",
              "    </tbody>\n",
              "</table>"
            ]
          },
          "metadata": {},
          "execution_count": 13
        }
      ],
      "source": [
        "%sql SELECT NAME_OF_SCHOOL, AVERAGE_STUDENT_ATTENDANCE FROM CHICAGO_PUBLIC_SCHOOLS_DATA ORDER BY AVERAGE_STUDENT_ATTENDANCE LIMIT 5"
      ]
    },
    {
      "cell_type": "markdown",
      "metadata": {
        "id": "ZlfSMC9yiFvY"
      },
      "source": [
        "Double-click **here** for the solution.\n",
        "\n",
        "<!-- Solution:\n",
        "\n",
        "%sql SELECT Name_of_School, Average_Student_Attendance  \\\n",
        "     from CHICAGO_PUBLIC_SCHOOLS_DATA \\\n",
        "     order by Average_Student_Attendance \\\n",
        "     LIMIT 5\n",
        "\n",
        "-->\n"
      ]
    },
    {
      "cell_type": "markdown",
      "metadata": {
        "id": "pANSb73EiFvY"
      },
      "source": [
        "### Problem 6\n",
        "\n",
        "##### Now remove the '%' sign from the above result set for Average Student Attendance column\n"
      ]
    },
    {
      "cell_type": "code",
      "execution_count": null,
      "metadata": {
        "id": "pv6Q3phsiFvY",
        "colab": {
          "base_uri": "https://localhost:8080/",
          "height": 183
        },
        "outputId": "ca615946-52ec-45b8-8d9a-9f2b344dc2d1"
      },
      "outputs": [
        {
          "output_type": "stream",
          "name": "stdout",
          "text": [
            " * sqlite:///RealWorldData.db\n",
            "Done.\n"
          ]
        },
        {
          "output_type": "execute_result",
          "data": {
            "text/plain": [
              "[('Velma F Thomas Early Childhood Center', None),\n",
              " ('Richard T Crane Technical Preparatory High School', '57.90'),\n",
              " ('Barbara Vick Early Childhood & Family Center', '60.90'),\n",
              " ('Dyett High School', '62.50'),\n",
              " ('Wendell Phillips Academy High School', '63.00')]"
            ],
            "text/html": [
              "<table>\n",
              "    <thead>\n",
              "        <tr>\n",
              "            <th>NAME_OF_SCHOOL</th>\n",
              "            <th>REPLACE(AVERAGE_STUDENT_ATTENDANCE,&#x27;%&#x27;,&#x27;&#x27;)</th>\n",
              "        </tr>\n",
              "    </thead>\n",
              "    <tbody>\n",
              "        <tr>\n",
              "            <td>Velma F Thomas Early Childhood Center</td>\n",
              "            <td>None</td>\n",
              "        </tr>\n",
              "        <tr>\n",
              "            <td>Richard T Crane Technical Preparatory High School</td>\n",
              "            <td>57.90</td>\n",
              "        </tr>\n",
              "        <tr>\n",
              "            <td>Barbara Vick Early Childhood &amp; Family Center</td>\n",
              "            <td>60.90</td>\n",
              "        </tr>\n",
              "        <tr>\n",
              "            <td>Dyett High School</td>\n",
              "            <td>62.50</td>\n",
              "        </tr>\n",
              "        <tr>\n",
              "            <td>Wendell Phillips Academy High School</td>\n",
              "            <td>63.00</td>\n",
              "        </tr>\n",
              "    </tbody>\n",
              "</table>"
            ]
          },
          "metadata": {},
          "execution_count": 14
        }
      ],
      "source": [
        "%sql SELECT NAME_OF_SCHOOL, REPLACE(AVERAGE_STUDENT_ATTENDANCE,'%','') \\\n",
        "  FROM CHICAGO_PUBLIC_SCHOOLS_DATA \\\n",
        "  ORDER BY AVERAGE_STUDENT_ATTENDANCE \\\n",
        "  LIMIT 5\n",
        "\n",
        "  #Got it first try but I wanted to change the indenting with \\ after I saw the answer"
      ]
    },
    {
      "cell_type": "markdown",
      "metadata": {
        "id": "rjCy6zzQiFvY"
      },
      "source": [
        "Double-click **here** for a hint\n",
        "\n",
        "<!--\n",
        "Use the REPLACE() function to replace '%' with ''\n",
        "\n",
        "-->\n"
      ]
    },
    {
      "cell_type": "markdown",
      "metadata": {
        "id": "M0JXXZ34iFvY"
      },
      "source": [
        "Double-click **here** for the solution.\n",
        "\n",
        "<!-- Hint:\n",
        "\n",
        "%sql SELECT Name_of_School, REPLACE(Average_Student_Attendance, '%', '') \\\n",
        "     from CHICAGO_PUBLIC_SCHOOLS_DATA \\\n",
        "     order by Average_Student_Attendance \\\n",
        "     LIMIT 5\n",
        "\n",
        "-->\n"
      ]
    },
    {
      "cell_type": "markdown",
      "metadata": {
        "id": "rI-e7Bw5iFvY"
      },
      "source": [
        "### Problem 7\n",
        "\n",
        "##### Which Schools have Average Student Attendance lower than 70%?\n"
      ]
    },
    {
      "cell_type": "code",
      "execution_count": null,
      "metadata": {
        "id": "4HfIZDV9iFvY",
        "colab": {
          "base_uri": "https://localhost:8080/",
          "height": 245
        },
        "outputId": "6ceb5897-e6ce-477a-b605-fe8646d2d50d"
      },
      "outputs": [
        {
          "output_type": "stream",
          "name": "stdout",
          "text": [
            " * sqlite:///RealWorldData.db\n",
            "Done.\n"
          ]
        },
        {
          "output_type": "execute_result",
          "data": {
            "text/plain": [
              "[('Barbara Vick Early Childhood & Family Center', '60.90%'),\n",
              " ('Chicago Vocational Career Academy High School', '68.80%'),\n",
              " ('Dyett High School', '62.50%'),\n",
              " ('Manley Career Academy High School', '66.80%'),\n",
              " ('Orr Academy High School', '66.30%'),\n",
              " ('Richard T Crane Technical Preparatory High School', '57.90%'),\n",
              " ('Roberto Clemente Community Academy High School', '69.60%'),\n",
              " ('Wendell Phillips Academy High School', '63.00%')]"
            ],
            "text/html": [
              "<table>\n",
              "    <thead>\n",
              "        <tr>\n",
              "            <th>NAME_OF_SCHOOL</th>\n",
              "            <th>AVERAGE_STUDENT_ATTENDANCE</th>\n",
              "        </tr>\n",
              "    </thead>\n",
              "    <tbody>\n",
              "        <tr>\n",
              "            <td>Barbara Vick Early Childhood &amp; Family Center</td>\n",
              "            <td>60.90%</td>\n",
              "        </tr>\n",
              "        <tr>\n",
              "            <td>Chicago Vocational Career Academy High School</td>\n",
              "            <td>68.80%</td>\n",
              "        </tr>\n",
              "        <tr>\n",
              "            <td>Dyett High School</td>\n",
              "            <td>62.50%</td>\n",
              "        </tr>\n",
              "        <tr>\n",
              "            <td>Manley Career Academy High School</td>\n",
              "            <td>66.80%</td>\n",
              "        </tr>\n",
              "        <tr>\n",
              "            <td>Orr Academy High School</td>\n",
              "            <td>66.30%</td>\n",
              "        </tr>\n",
              "        <tr>\n",
              "            <td>Richard T Crane Technical Preparatory High School</td>\n",
              "            <td>57.90%</td>\n",
              "        </tr>\n",
              "        <tr>\n",
              "            <td>Roberto Clemente Community Academy High School</td>\n",
              "            <td>69.60%</td>\n",
              "        </tr>\n",
              "        <tr>\n",
              "            <td>Wendell Phillips Academy High School</td>\n",
              "            <td>63.00%</td>\n",
              "        </tr>\n",
              "    </tbody>\n",
              "</table>"
            ]
          },
          "metadata": {},
          "execution_count": 15
        }
      ],
      "source": [
        "#%sql SELECT NAME_OF_SCHOOL, CAST(REPLACE(AVERAGE_STUDENT_ATTENDANCE, '%','') as DOUBLE) as AVERAGE_STUDENT_ATTENDANCE FROM CHICAGO_PUBLIC_SCHOOLS_DATA WHERE AVERAGE_STUDENT_ATTENDANCE < 70\n",
        "\n",
        "%sql SELECT NAME_OF_SCHOOL, AVERAGE_STUDENT_ATTENDANCE FROM CHICAGO_PUBLIC_SCHOOLS_DATA WHERE CAST(REPLACE(AVERAGE_STUDENT_ATTENDANCE,'%','') as DECIMAL) < 70\n",
        "#The second way is nicer as it doesn't affect the column name which is taken from after the select statement"
      ]
    },
    {
      "cell_type": "markdown",
      "metadata": {
        "id": "MfMdSiLEiFvY"
      },
      "source": [
        "Double-click **here** for a hint\n",
        "\n",
        "<!--\n",
        "The datatype of the \"Average_Student_Attendance\" column is varchar.\n",
        "So you cannot use it as is in the where clause for a numeric comparison.\n",
        "First use the CAST() function to cast it as a DECIMAL or DOUBLE\n",
        "e.g. CAST(\"Column_Name\" as DOUBLE)\n",
        "\n",
        "-->\n"
      ]
    },
    {
      "cell_type": "markdown",
      "metadata": {
        "id": "NS5ypUZViFvY"
      },
      "source": [
        "Double-click **here** for another hint\n",
        "\n",
        "<!--\n",
        "Don't forget the '%' age sign needs to be removed before casting\n",
        "-->\n"
      ]
    },
    {
      "cell_type": "markdown",
      "metadata": {
        "id": "_XUNlJfhiFvZ"
      },
      "source": [
        "Double-click **here** for the solution.\n",
        "\n",
        "<!-- Solution:\n",
        "\n",
        "%sql SELECT Name_of_School, Average_Student_Attendance  \\\n",
        "     from CHICAGO_PUBLIC_SCHOOLS_DATA \\\n",
        "     where CAST ( REPLACE(Average_Student_Attendance, '%', '') AS DOUBLE ) < 70 \\\n",
        "     order by Average_Student_Attendance\n",
        "     \n",
        "\n",
        "-->\n"
      ]
    },
    {
      "cell_type": "markdown",
      "metadata": {
        "id": "EHk3eDEuiFvZ"
      },
      "source": [
        "### Problem 8\n",
        "\n",
        "##### Get the total College Enrollment for each Community Area\n"
      ]
    },
    {
      "cell_type": "code",
      "execution_count": null,
      "metadata": {
        "id": "lwyMKb3siFvZ",
        "colab": {
          "base_uri": "https://localhost:8080/",
          "height": 1000
        },
        "outputId": "df62df55-0303-4857-80cf-dba873880230"
      },
      "outputs": [
        {
          "output_type": "stream",
          "name": "stdout",
          "text": [
            " * sqlite:///RealWorldData.db\n",
            "Done.\n"
          ]
        },
        {
          "output_type": "execute_result",
          "data": {
            "text/plain": [
              "[('ALBANY PARK', 6864),\n",
              " ('ARCHER HEIGHTS', 4823),\n",
              " ('ARMOUR SQUARE', 1458),\n",
              " ('ASHBURN', 6483),\n",
              " ('AUBURN GRESHAM', 4175),\n",
              " ('AUSTIN', 10933),\n",
              " ('AVALON PARK', 1522),\n",
              " ('AVONDALE', 3640),\n",
              " ('BELMONT CRAGIN', 14386),\n",
              " ('BEVERLY', 1636),\n",
              " ('BRIDGEPORT', 3167),\n",
              " ('BRIGHTON PARK', 9647),\n",
              " ('BURNSIDE', 549),\n",
              " ('CALUMET HEIGHTS', 1568),\n",
              " ('CHATHAM', 5042),\n",
              " ('CHICAGO LAWN', 7086),\n",
              " ('CLEARING', 2085),\n",
              " ('DOUGLAS', 4670),\n",
              " ('DUNNING', 4568),\n",
              " ('EAST GARFIELD PARK', 5337),\n",
              " ('EAST SIDE', 5305),\n",
              " ('EDGEWATER', 4600),\n",
              " ('EDISON PARK', 910),\n",
              " ('ENGLEWOOD', 6832),\n",
              " ('FOREST GLEN', 1431),\n",
              " ('FULLER PARK', 531),\n",
              " ('GAGE PARK', 9915),\n",
              " ('GARFIELD RIDGE', 4552),\n",
              " ('GRAND BOULEVARD', 2809),\n",
              " ('GREATER GRAND CROSSING', 4051),\n",
              " ('HEGEWISCH', 963),\n",
              " ('HERMOSA', 3975),\n",
              " ('HUMBOLDT PARK', 8620),\n",
              " ('HYDE PARK', 1930),\n",
              " ('IRVING PARK', 7764),\n",
              " ('JEFFERSON PARK', 1755),\n",
              " ('KENWOOD', 4287),\n",
              " ('LAKE VIEW', 7055),\n",
              " ('LINCOLN PARK', 5615),\n",
              " ('LINCOLN SQUARE', 4132),\n",
              " ('LOGAN SQUARE', 7351),\n",
              " ('LOOP', 871),\n",
              " ('LOWER WEST SIDE', 7257),\n",
              " ('MCKINLEY PARK', 1552),\n",
              " ('MONTCLARE', 1317),\n",
              " ('MORGAN PARK', 3271),\n",
              " ('MOUNT GREENWOOD', 2091),\n",
              " ('NEAR NORTH SIDE', 3362),\n",
              " ('NEAR SOUTH SIDE', 1378),\n",
              " ('NEAR WEST SIDE', 7975),\n",
              " ('NEW CITY', 7922),\n",
              " ('NORTH CENTER', 7541),\n",
              " ('NORTH LAWNDALE', 5146),\n",
              " ('NORTH PARK', 4210),\n",
              " ('NORWOOD PARK', 6469),\n",
              " ('OAKLAND', 140),\n",
              " ('OHARE', 786),\n",
              " ('PORTAGE PARK', 6954),\n",
              " ('PULLMAN', 1620),\n",
              " ('RIVERDALE', 1547),\n",
              " ('ROGERS PARK', 4068),\n",
              " ('ROSELAND', 7020),\n",
              " ('SOUTH CHICAGO', 4043),\n",
              " ('SOUTH DEERING', 1859),\n",
              " ('SOUTH LAWNDALE', 14793),\n",
              " ('SOUTH SHORE', 4543),\n",
              " ('UPTOWN', 4388),\n",
              " ('WASHINGTON HEIGHTS', 4006),\n",
              " ('WASHINGTON PARK', 2648),\n",
              " ('WEST ELSDON', 3700),\n",
              " ('WEST ENGLEWOOD', 5946),\n",
              " ('WEST GARFIELD PARK', 2622),\n",
              " ('WEST LAWN', 4207),\n",
              " ('WEST PULLMAN', 3240),\n",
              " ('WEST RIDGE', 8197),\n",
              " ('WEST TOWN', 9429),\n",
              " ('WOODLAWN', 4206)]"
            ],
            "text/html": [
              "<table>\n",
              "    <thead>\n",
              "        <tr>\n",
              "            <th>COMMUNITY_AREA_NAME</th>\n",
              "            <th>TOTAL_ENROLLMENT</th>\n",
              "        </tr>\n",
              "    </thead>\n",
              "    <tbody>\n",
              "        <tr>\n",
              "            <td>ALBANY PARK</td>\n",
              "            <td>6864</td>\n",
              "        </tr>\n",
              "        <tr>\n",
              "            <td>ARCHER HEIGHTS</td>\n",
              "            <td>4823</td>\n",
              "        </tr>\n",
              "        <tr>\n",
              "            <td>ARMOUR SQUARE</td>\n",
              "            <td>1458</td>\n",
              "        </tr>\n",
              "        <tr>\n",
              "            <td>ASHBURN</td>\n",
              "            <td>6483</td>\n",
              "        </tr>\n",
              "        <tr>\n",
              "            <td>AUBURN GRESHAM</td>\n",
              "            <td>4175</td>\n",
              "        </tr>\n",
              "        <tr>\n",
              "            <td>AUSTIN</td>\n",
              "            <td>10933</td>\n",
              "        </tr>\n",
              "        <tr>\n",
              "            <td>AVALON PARK</td>\n",
              "            <td>1522</td>\n",
              "        </tr>\n",
              "        <tr>\n",
              "            <td>AVONDALE</td>\n",
              "            <td>3640</td>\n",
              "        </tr>\n",
              "        <tr>\n",
              "            <td>BELMONT CRAGIN</td>\n",
              "            <td>14386</td>\n",
              "        </tr>\n",
              "        <tr>\n",
              "            <td>BEVERLY</td>\n",
              "            <td>1636</td>\n",
              "        </tr>\n",
              "        <tr>\n",
              "            <td>BRIDGEPORT</td>\n",
              "            <td>3167</td>\n",
              "        </tr>\n",
              "        <tr>\n",
              "            <td>BRIGHTON PARK</td>\n",
              "            <td>9647</td>\n",
              "        </tr>\n",
              "        <tr>\n",
              "            <td>BURNSIDE</td>\n",
              "            <td>549</td>\n",
              "        </tr>\n",
              "        <tr>\n",
              "            <td>CALUMET HEIGHTS</td>\n",
              "            <td>1568</td>\n",
              "        </tr>\n",
              "        <tr>\n",
              "            <td>CHATHAM</td>\n",
              "            <td>5042</td>\n",
              "        </tr>\n",
              "        <tr>\n",
              "            <td>CHICAGO LAWN</td>\n",
              "            <td>7086</td>\n",
              "        </tr>\n",
              "        <tr>\n",
              "            <td>CLEARING</td>\n",
              "            <td>2085</td>\n",
              "        </tr>\n",
              "        <tr>\n",
              "            <td>DOUGLAS</td>\n",
              "            <td>4670</td>\n",
              "        </tr>\n",
              "        <tr>\n",
              "            <td>DUNNING</td>\n",
              "            <td>4568</td>\n",
              "        </tr>\n",
              "        <tr>\n",
              "            <td>EAST GARFIELD PARK</td>\n",
              "            <td>5337</td>\n",
              "        </tr>\n",
              "        <tr>\n",
              "            <td>EAST SIDE</td>\n",
              "            <td>5305</td>\n",
              "        </tr>\n",
              "        <tr>\n",
              "            <td>EDGEWATER</td>\n",
              "            <td>4600</td>\n",
              "        </tr>\n",
              "        <tr>\n",
              "            <td>EDISON PARK</td>\n",
              "            <td>910</td>\n",
              "        </tr>\n",
              "        <tr>\n",
              "            <td>ENGLEWOOD</td>\n",
              "            <td>6832</td>\n",
              "        </tr>\n",
              "        <tr>\n",
              "            <td>FOREST GLEN</td>\n",
              "            <td>1431</td>\n",
              "        </tr>\n",
              "        <tr>\n",
              "            <td>FULLER PARK</td>\n",
              "            <td>531</td>\n",
              "        </tr>\n",
              "        <tr>\n",
              "            <td>GAGE PARK</td>\n",
              "            <td>9915</td>\n",
              "        </tr>\n",
              "        <tr>\n",
              "            <td>GARFIELD RIDGE</td>\n",
              "            <td>4552</td>\n",
              "        </tr>\n",
              "        <tr>\n",
              "            <td>GRAND BOULEVARD</td>\n",
              "            <td>2809</td>\n",
              "        </tr>\n",
              "        <tr>\n",
              "            <td>GREATER GRAND CROSSING</td>\n",
              "            <td>4051</td>\n",
              "        </tr>\n",
              "        <tr>\n",
              "            <td>HEGEWISCH</td>\n",
              "            <td>963</td>\n",
              "        </tr>\n",
              "        <tr>\n",
              "            <td>HERMOSA</td>\n",
              "            <td>3975</td>\n",
              "        </tr>\n",
              "        <tr>\n",
              "            <td>HUMBOLDT PARK</td>\n",
              "            <td>8620</td>\n",
              "        </tr>\n",
              "        <tr>\n",
              "            <td>HYDE PARK</td>\n",
              "            <td>1930</td>\n",
              "        </tr>\n",
              "        <tr>\n",
              "            <td>IRVING PARK</td>\n",
              "            <td>7764</td>\n",
              "        </tr>\n",
              "        <tr>\n",
              "            <td>JEFFERSON PARK</td>\n",
              "            <td>1755</td>\n",
              "        </tr>\n",
              "        <tr>\n",
              "            <td>KENWOOD</td>\n",
              "            <td>4287</td>\n",
              "        </tr>\n",
              "        <tr>\n",
              "            <td>LAKE VIEW</td>\n",
              "            <td>7055</td>\n",
              "        </tr>\n",
              "        <tr>\n",
              "            <td>LINCOLN PARK</td>\n",
              "            <td>5615</td>\n",
              "        </tr>\n",
              "        <tr>\n",
              "            <td>LINCOLN SQUARE</td>\n",
              "            <td>4132</td>\n",
              "        </tr>\n",
              "        <tr>\n",
              "            <td>LOGAN SQUARE</td>\n",
              "            <td>7351</td>\n",
              "        </tr>\n",
              "        <tr>\n",
              "            <td>LOOP</td>\n",
              "            <td>871</td>\n",
              "        </tr>\n",
              "        <tr>\n",
              "            <td>LOWER WEST SIDE</td>\n",
              "            <td>7257</td>\n",
              "        </tr>\n",
              "        <tr>\n",
              "            <td>MCKINLEY PARK</td>\n",
              "            <td>1552</td>\n",
              "        </tr>\n",
              "        <tr>\n",
              "            <td>MONTCLARE</td>\n",
              "            <td>1317</td>\n",
              "        </tr>\n",
              "        <tr>\n",
              "            <td>MORGAN PARK</td>\n",
              "            <td>3271</td>\n",
              "        </tr>\n",
              "        <tr>\n",
              "            <td>MOUNT GREENWOOD</td>\n",
              "            <td>2091</td>\n",
              "        </tr>\n",
              "        <tr>\n",
              "            <td>NEAR NORTH SIDE</td>\n",
              "            <td>3362</td>\n",
              "        </tr>\n",
              "        <tr>\n",
              "            <td>NEAR SOUTH SIDE</td>\n",
              "            <td>1378</td>\n",
              "        </tr>\n",
              "        <tr>\n",
              "            <td>NEAR WEST SIDE</td>\n",
              "            <td>7975</td>\n",
              "        </tr>\n",
              "        <tr>\n",
              "            <td>NEW CITY</td>\n",
              "            <td>7922</td>\n",
              "        </tr>\n",
              "        <tr>\n",
              "            <td>NORTH CENTER</td>\n",
              "            <td>7541</td>\n",
              "        </tr>\n",
              "        <tr>\n",
              "            <td>NORTH LAWNDALE</td>\n",
              "            <td>5146</td>\n",
              "        </tr>\n",
              "        <tr>\n",
              "            <td>NORTH PARK</td>\n",
              "            <td>4210</td>\n",
              "        </tr>\n",
              "        <tr>\n",
              "            <td>NORWOOD PARK</td>\n",
              "            <td>6469</td>\n",
              "        </tr>\n",
              "        <tr>\n",
              "            <td>OAKLAND</td>\n",
              "            <td>140</td>\n",
              "        </tr>\n",
              "        <tr>\n",
              "            <td>OHARE</td>\n",
              "            <td>786</td>\n",
              "        </tr>\n",
              "        <tr>\n",
              "            <td>PORTAGE PARK</td>\n",
              "            <td>6954</td>\n",
              "        </tr>\n",
              "        <tr>\n",
              "            <td>PULLMAN</td>\n",
              "            <td>1620</td>\n",
              "        </tr>\n",
              "        <tr>\n",
              "            <td>RIVERDALE</td>\n",
              "            <td>1547</td>\n",
              "        </tr>\n",
              "        <tr>\n",
              "            <td>ROGERS PARK</td>\n",
              "            <td>4068</td>\n",
              "        </tr>\n",
              "        <tr>\n",
              "            <td>ROSELAND</td>\n",
              "            <td>7020</td>\n",
              "        </tr>\n",
              "        <tr>\n",
              "            <td>SOUTH CHICAGO</td>\n",
              "            <td>4043</td>\n",
              "        </tr>\n",
              "        <tr>\n",
              "            <td>SOUTH DEERING</td>\n",
              "            <td>1859</td>\n",
              "        </tr>\n",
              "        <tr>\n",
              "            <td>SOUTH LAWNDALE</td>\n",
              "            <td>14793</td>\n",
              "        </tr>\n",
              "        <tr>\n",
              "            <td>SOUTH SHORE</td>\n",
              "            <td>4543</td>\n",
              "        </tr>\n",
              "        <tr>\n",
              "            <td>UPTOWN</td>\n",
              "            <td>4388</td>\n",
              "        </tr>\n",
              "        <tr>\n",
              "            <td>WASHINGTON HEIGHTS</td>\n",
              "            <td>4006</td>\n",
              "        </tr>\n",
              "        <tr>\n",
              "            <td>WASHINGTON PARK</td>\n",
              "            <td>2648</td>\n",
              "        </tr>\n",
              "        <tr>\n",
              "            <td>WEST ELSDON</td>\n",
              "            <td>3700</td>\n",
              "        </tr>\n",
              "        <tr>\n",
              "            <td>WEST ENGLEWOOD</td>\n",
              "            <td>5946</td>\n",
              "        </tr>\n",
              "        <tr>\n",
              "            <td>WEST GARFIELD PARK</td>\n",
              "            <td>2622</td>\n",
              "        </tr>\n",
              "        <tr>\n",
              "            <td>WEST LAWN</td>\n",
              "            <td>4207</td>\n",
              "        </tr>\n",
              "        <tr>\n",
              "            <td>WEST PULLMAN</td>\n",
              "            <td>3240</td>\n",
              "        </tr>\n",
              "        <tr>\n",
              "            <td>WEST RIDGE</td>\n",
              "            <td>8197</td>\n",
              "        </tr>\n",
              "        <tr>\n",
              "            <td>WEST TOWN</td>\n",
              "            <td>9429</td>\n",
              "        </tr>\n",
              "        <tr>\n",
              "            <td>WOODLAWN</td>\n",
              "            <td>4206</td>\n",
              "        </tr>\n",
              "    </tbody>\n",
              "</table>"
            ]
          },
          "metadata": {},
          "execution_count": 16
        }
      ],
      "source": [
        "%sql SELECT COMMUNITY_AREA_NAME, SUM(COLLEGE_ENROLLMENT) as TOTAL_ENROLLMENT FROM CHICAGO_PUBLIC_SCHOOLS_DATA GROUP BY COMMUNITY_AREA_NAME"
      ]
    },
    {
      "cell_type": "markdown",
      "metadata": {
        "id": "sMq47CZ_iFvZ"
      },
      "source": [
        "Double-click **here** for a hint\n",
        "\n",
        "<!--\n",
        "Verify the exact name of the Enrollment column in the database\n",
        "Use the SUM() function to add up the Enrollments for each Community Area\n",
        "-->\n"
      ]
    },
    {
      "cell_type": "markdown",
      "metadata": {
        "id": "B0-HVoPTiFvZ"
      },
      "source": [
        "Double-click **here** for another hint\n",
        "\n",
        "<!--\n",
        "Don't forget to group by the Community Area\n",
        "-->\n"
      ]
    },
    {
      "cell_type": "markdown",
      "metadata": {
        "id": "87k44jm9iFvZ"
      },
      "source": [
        "Double-click **here** for the solution.\n",
        "\n",
        "<!-- Solution:\n",
        "\n",
        "%sql select Community_Area_Name, sum(College_Enrollment) AS TOTAL_ENROLLMENT \\\n",
        "   from CHICAGO_PUBLIC_SCHOOLS_DATA \\\n",
        "   group by Community_Area_Name \n",
        "\n",
        "-->\n"
      ]
    },
    {
      "cell_type": "markdown",
      "metadata": {
        "id": "y7dmJhg_iFvZ"
      },
      "source": [
        "### Problem 9\n",
        "\n",
        "##### Get the 5 Community Areas with the least total College Enrollment  sorted in ascending order\n"
      ]
    },
    {
      "cell_type": "code",
      "execution_count": null,
      "metadata": {
        "id": "ujjGwT27iFvZ",
        "colab": {
          "base_uri": "https://localhost:8080/",
          "height": 183
        },
        "outputId": "3240c094-7b52-40dd-b122-5139dbc25d5a"
      },
      "outputs": [
        {
          "output_type": "stream",
          "name": "stdout",
          "text": [
            " * sqlite:///RealWorldData.db\n",
            "Done.\n"
          ]
        },
        {
          "output_type": "execute_result",
          "data": {
            "text/plain": [
              "[('OAKLAND', 140),\n",
              " ('FULLER PARK', 531),\n",
              " ('BURNSIDE', 549),\n",
              " ('OHARE', 786),\n",
              " ('LOOP', 871)]"
            ],
            "text/html": [
              "<table>\n",
              "    <thead>\n",
              "        <tr>\n",
              "            <th>COMMUNITY_AREA_NAME</th>\n",
              "            <th>TOTAL_ENROLLMENT</th>\n",
              "        </tr>\n",
              "    </thead>\n",
              "    <tbody>\n",
              "        <tr>\n",
              "            <td>OAKLAND</td>\n",
              "            <td>140</td>\n",
              "        </tr>\n",
              "        <tr>\n",
              "            <td>FULLER PARK</td>\n",
              "            <td>531</td>\n",
              "        </tr>\n",
              "        <tr>\n",
              "            <td>BURNSIDE</td>\n",
              "            <td>549</td>\n",
              "        </tr>\n",
              "        <tr>\n",
              "            <td>OHARE</td>\n",
              "            <td>786</td>\n",
              "        </tr>\n",
              "        <tr>\n",
              "            <td>LOOP</td>\n",
              "            <td>871</td>\n",
              "        </tr>\n",
              "    </tbody>\n",
              "</table>"
            ]
          },
          "metadata": {},
          "execution_count": 17
        }
      ],
      "source": [
        "%sql SELECT COMMUNITY_AREA_NAME, SUM(COLLEGE_ENROLLMENT) as TOTAL_ENROLLMENT FROM CHICAGO_PUBLIC_SCHOOLS_DATA \\\n",
        "  GROUP BY COMMUNITY_AREA_NAME ORDER BY TOTAL_ENROLLMENT \\\n",
        "  LIMIT 5\n",
        "\n",
        "  #Got it first try"
      ]
    },
    {
      "cell_type": "markdown",
      "metadata": {
        "id": "lm56kPkpiFvZ"
      },
      "source": [
        "Double-click **here** for a hint\n",
        "\n",
        "<!--\n",
        "Order the previous query and limit the number of rows you fetch\n",
        "-->\n"
      ]
    },
    {
      "cell_type": "markdown",
      "metadata": {
        "id": "mu2qGXMuiFva"
      },
      "source": [
        "Double-click **here** for the solution.\n",
        "\n",
        "<!-- Solution:\n",
        "\n",
        "%sql select Community_Area_Name, sum(College_Enrollment) AS TOTAL_ENROLLMENT \\\n",
        "   from CHICAGO_PUBLIC_SCHOOLS_DATA \\\n",
        "   group by Community_Area_Name \\\n",
        "   order by TOTAL_ENROLLMENT asc \\\n",
        "   LIMIT 5 \n",
        "\n",
        "-->\n"
      ]
    },
    {
      "cell_type": "markdown",
      "metadata": {
        "id": "EHmU1dJqiFva"
      },
      "source": [
        "### Problem 10\n",
        "\n",
        "##### List 5 schools with lowest safety score.\n"
      ]
    },
    {
      "cell_type": "code",
      "execution_count": null,
      "metadata": {
        "id": "5TtZs8gMiFva",
        "colab": {
          "base_uri": "https://localhost:8080/",
          "height": 183
        },
        "outputId": "408b8778-7e43-4433-815d-b77c9e2f659e"
      },
      "outputs": [
        {
          "output_type": "stream",
          "name": "stdout",
          "text": [
            " * sqlite:///RealWorldData.db\n",
            "Done.\n"
          ]
        },
        {
          "output_type": "execute_result",
          "data": {
            "text/plain": [
              "[('Edmond Burke Elementary School', 1.0),\n",
              " (\"Luke O'Toole Elementary School\", 5.0),\n",
              " ('George W Tilton Elementary School', 6.0),\n",
              " ('Foster Park Elementary School', 11.0),\n",
              " ('Emil G Hirsch Metropolitan High School', 13.0)]"
            ],
            "text/html": [
              "<table>\n",
              "    <thead>\n",
              "        <tr>\n",
              "            <th>NAME_OF_SCHOOL</th>\n",
              "            <th>SAFETY_SCORE</th>\n",
              "        </tr>\n",
              "    </thead>\n",
              "    <tbody>\n",
              "        <tr>\n",
              "            <td>Edmond Burke Elementary School</td>\n",
              "            <td>1.0</td>\n",
              "        </tr>\n",
              "        <tr>\n",
              "            <td>Luke O&#x27;Toole Elementary School</td>\n",
              "            <td>5.0</td>\n",
              "        </tr>\n",
              "        <tr>\n",
              "            <td>George W Tilton Elementary School</td>\n",
              "            <td>6.0</td>\n",
              "        </tr>\n",
              "        <tr>\n",
              "            <td>Foster Park Elementary School</td>\n",
              "            <td>11.0</td>\n",
              "        </tr>\n",
              "        <tr>\n",
              "            <td>Emil G Hirsch Metropolitan High School</td>\n",
              "            <td>13.0</td>\n",
              "        </tr>\n",
              "    </tbody>\n",
              "</table>"
            ]
          },
          "metadata": {},
          "execution_count": 18
        }
      ],
      "source": [
        "%sql SELECT NAME_OF_SCHOOL, SAFETY_SCORE FROM CHICAGO_PUBLIC_SCHOOLS_DATA WHERE SAFETY_SCORE != 0 ORDER BY SAFETY_SCORE  LIMIT 5\n",
        "#Got it first try and didn't realise you could just put 'None' instead of 0 but it worked!"
      ]
    },
    {
      "cell_type": "markdown",
      "metadata": {
        "id": "0GiBC-t0iFva"
      },
      "source": [
        "Double-click **here** for the solution.\n",
        "\n",
        "<!-- Solution SQLite:\n",
        "\n",
        "%sql SELECT name_of_school, safety_score \\\n",
        "FROM CHICAGO_PUBLIC_SCHOOLS_DATA  where safety_score !='None' \\\n",
        "ORDER BY safety_score \\\n",
        "LIMIT 5\n",
        "\n",
        "-->\n"
      ]
    },
    {
      "cell_type": "markdown",
      "metadata": {
        "id": "eOw1TArbiFva"
      },
      "source": [
        "### Problem 11\n",
        "\n",
        "##### Get the hardship index for the community area which has College Enrollment of 4368\n"
      ]
    },
    {
      "cell_type": "code",
      "execution_count": null,
      "metadata": {
        "id": "7L-VjyNSiFva",
        "colab": {
          "base_uri": "https://localhost:8080/",
          "height": 97
        },
        "outputId": "b31036cc-e90d-4f46-fb44-eed906f9886f"
      },
      "outputs": [
        {
          "output_type": "stream",
          "name": "stdout",
          "text": [
            " * sqlite:///RealWorldData.db\n",
            "Done.\n"
          ]
        },
        {
          "output_type": "execute_result",
          "data": {
            "text/plain": [
              "[(6.0,)]"
            ],
            "text/html": [
              "<table>\n",
              "    <thead>\n",
              "        <tr>\n",
              "            <th>HARDSHIP_INDEX</th>\n",
              "        </tr>\n",
              "    </thead>\n",
              "    <tbody>\n",
              "        <tr>\n",
              "            <td>6.0</td>\n",
              "        </tr>\n",
              "    </tbody>\n",
              "</table>"
            ]
          },
          "metadata": {},
          "execution_count": 19
        }
      ],
      "source": [
        "#This is one of those slightly tricky problems where you have to think carefully\n",
        "#First we want to show the Hardship Index so that is what appears after the SELECT statement\n",
        "#Then we need to make sure that we are equating primary keys from different tables to collect information that is related\n",
        "\n",
        "%sql SELECT HARDSHIP_INDEX \\\n",
        "  FROM CENSUS_DATA CD, CHICAGO_PUBLIC_SCHOOLS_DATA CPS \\\n",
        "  WHERE CD.COMMUNITY_AREA_NUMBER = CPS.COMMUNITY_AREA_NUMBER \\\n",
        "  AND CPS.COLLEGE_ENROLLMENT = 4368\n",
        "\n",
        "#I think the question or column names were changed but I still figured it out!\n",
        "#Got it first try! :D"
      ]
    },
    {
      "cell_type": "markdown",
      "metadata": {
        "id": "jC26Y1EhiFva"
      },
      "source": [
        "Double-click **here** for the solution.\n",
        "\n",
        "<!-- Solution:\n",
        "NOTE: For this solution to work the CHICAGO_SOCIOECONOMIC_DATA table \n",
        "      as created in the last lab of Week 3 should already exist\n",
        "\n",
        "%%sql \n",
        "select hardship_index from CENSUS_DATA CD, CHICAGO_PUBLIC_SCHOOLS_DATA CPS \n",
        "where CD.community_area_number = CPS.community_area_number \n",
        "and college_enrollment = 4368\n",
        "\n",
        "\n",
        "-->\n"
      ]
    },
    {
      "cell_type": "markdown",
      "metadata": {
        "id": "-IgjttHFiFva"
      },
      "source": [
        "### Problem 12\n",
        "\n",
        "##### Get the hardship index for the community area which has the highest value for College Enrollment\n"
      ]
    },
    {
      "cell_type": "code",
      "execution_count": null,
      "metadata": {
        "id": "TcbdhsakiFva",
        "colab": {
          "base_uri": "https://localhost:8080/",
          "height": 183
        },
        "outputId": "4ea87e14-17c9-4954-b69a-4301d87b0969"
      },
      "outputs": [
        {
          "output_type": "stream",
          "name": "stdout",
          "text": [
            " * sqlite:///RealWorldData.db\n",
            "Done.\n"
          ]
        },
        {
          "output_type": "execute_result",
          "data": {
            "text/plain": [
              "[(1.0, 'Rogers Park', 39.0),\n",
              " (2.0, 'West Ridge', 46.0),\n",
              " (3.0, 'Uptown', 20.0),\n",
              " (4.0, 'Lincoln Square', 17.0),\n",
              " (5.0, 'North Center', 6.0)]"
            ],
            "text/html": [
              "<table>\n",
              "    <thead>\n",
              "        <tr>\n",
              "            <th>COMMUNITY_AREA_NUMBER</th>\n",
              "            <th>COMMUNITY_AREA_NAME</th>\n",
              "            <th>HARDSHIP_INDEX</th>\n",
              "        </tr>\n",
              "    </thead>\n",
              "    <tbody>\n",
              "        <tr>\n",
              "            <td>1.0</td>\n",
              "            <td>Rogers Park</td>\n",
              "            <td>39.0</td>\n",
              "        </tr>\n",
              "        <tr>\n",
              "            <td>2.0</td>\n",
              "            <td>West Ridge</td>\n",
              "            <td>46.0</td>\n",
              "        </tr>\n",
              "        <tr>\n",
              "            <td>3.0</td>\n",
              "            <td>Uptown</td>\n",
              "            <td>20.0</td>\n",
              "        </tr>\n",
              "        <tr>\n",
              "            <td>4.0</td>\n",
              "            <td>Lincoln Square</td>\n",
              "            <td>17.0</td>\n",
              "        </tr>\n",
              "        <tr>\n",
              "            <td>5.0</td>\n",
              "            <td>North Center</td>\n",
              "            <td>6.0</td>\n",
              "        </tr>\n",
              "    </tbody>\n",
              "</table>"
            ]
          },
          "metadata": {},
          "execution_count": 21
        }
      ],
      "source": [
        "#%sql SELECT HARDSHIP_INDEX \\\n",
        " # FROM CENSUS_DATA CD, CHICAGO_PUBLIC_SCHOOLS_DATA CPS \\\n",
        " # WHERE CD.COMMUNITY_AREA_NUMBER = CPS.COMMUNITY_AREA_NUMBER \\\n",
        " # AND CPS.COLLEGE_ENROLLMENT = (SELECT MAX(COLLEGE_ENROLLMENT) FROM CHICAGO_PUBLIC_SCHOOLS_DATA)\n",
        "\n",
        "#I got this one wrong on my first attempt - should have read the question better as we need the other columns in this case\n",
        "\n",
        "%sql SELECT COMMUNITY_AREA_NUMBER, COMMUNITY_AREA_NAME, HARDSHIP_INDEX \\\n",
        "  FROM CENSUS_DATA \\\n",
        "  WHERE \\\n",
        "  COMMUNITY_AREA_NUMBER in (SELECT COMMUNITY_AREA_NUMBER FROM CHICAGO_PUBLIC_SCHOOLS_DATA ORDER BY COLLEGE_ENROLLMENT) LIMIT 5\n"
      ]
    },
    {
      "cell_type": "markdown",
      "metadata": {
        "id": "5dZai6xGiFvb"
      },
      "source": [
        "Double-click **here** for the solution.\n",
        "\n",
        "<!-- Solution:\n",
        "NOTE: For this solution to work the CHICAGO_SOCIOECONOMIC_DATA table \n",
        "      as created in the last lab of Week 3 should already exist\n",
        "\n",
        "%sql select community_area_number, community_area_name, hardship_index from CENSUS_DATA \\\n",
        "   where community_area_number in \\\n",
        "   ( select community_area_number from CHICAGO_PUBLIC_SCHOOLS_DATA order by college_enrollment desc limit 1 )\n",
        "-->\n"
      ]
    },
    {
      "cell_type": "markdown",
      "metadata": {
        "id": "BzitTW_TiFvb"
      },
      "source": [
        "## Summary\n",
        "\n",
        "##### In this lab you learned how to work with a real word dataset using SQL and Python. You learned how to query columns with spaces or special characters in their names and with mixed case names. You also used built in database functions and practiced how to sort, limit, and order result sets, as well as used sub-queries and worked with multiple tables.\n"
      ]
    },
    {
      "cell_type": "markdown",
      "metadata": {
        "id": "2QyAKuxTiFvb"
      },
      "source": [
        "## Author\n",
        "\n",
        "<a href=\"https://www.linkedin.com/in/ravahuja/?utm_medium=Exinfluencer&utm_source=Exinfluencer&utm_content=000026UJ&utm_term=10006555&utm_id=NA-SkillsNetwork-Channel-SkillsNetworkCoursesIBMDeveloperSkillsNetworkDB0201ENSkillsNetwork20127838-2021-01-01\" target=\"_blank\">Rav Ahuja</a>\n",
        "\n",
        "## Change Log\n",
        "\n",
        "| Date (YYYY-MM-DD) | Version | Changed By        | Change Description                        |\n",
        "| ----------------- | ------- | ----------------- | ----------------------------------------- |\n",
        "| 2022-03-04        | 2.2     | Lakshmi Holla     | Made changes in markdown cells            |\n",
        "| 2020-11-27        | 2.1     | Sannareddy Ramesh | Modified data sets and added new problems |\n",
        "| 2020-08-28        | 2.0     | Lavanya           | Moved lab to course repo in GitLab        |\n",
        "\n",
        "<hr>\n",
        "\n",
        "## <h3 align=\"center\"> © IBM Corporation 2020. All rights reserved. <h3/>\n"
      ]
    }
  ],
  "metadata": {
    "kernelspec": {
      "display_name": "Python 3",
      "language": "python",
      "name": "python3"
    },
    "language_info": {
      "codemirror_mode": {
        "name": "ipython",
        "version": 3
      },
      "file_extension": ".py",
      "mimetype": "text/x-python",
      "name": "python",
      "nbconvert_exporter": "python",
      "pygments_lexer": "ipython3",
      "version": "3.8.8"
    },
    "colab": {
      "provenance": []
    }
  },
  "nbformat": 4,
  "nbformat_minor": 0
}